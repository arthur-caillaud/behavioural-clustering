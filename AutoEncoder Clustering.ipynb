{
 "cells": [
  {
   "cell_type": "code",
   "execution_count": 228,
   "metadata": {
    "ExecuteTime": {
     "end_time": "2019-05-11T14:12:53.174609Z",
     "start_time": "2019-05-11T14:12:52.535697Z"
    }
   },
   "outputs": [],
   "source": [
    "# External packages\n",
    "import pandas as pd\n",
    "import numpy as np\n",
    "import datetime\n",
    "import matplotlib.pyplot as plt\n",
    "from sklearn import preprocessing\n",
    "from sklearn.ensemble import RandomForestRegressor, RandomForestClassifier\n",
    "from sklearn.metrics import confusion_matrix\n",
    "import datetime"
   ]
  },
  {
   "cell_type": "code",
   "execution_count": 229,
   "metadata": {},
   "outputs": [],
   "source": [
    "%matplotlib inline"
   ]
  },
  {
   "cell_type": "markdown",
   "metadata": {},
   "source": [
    "# Data Preprocessing"
   ]
  },
  {
   "cell_type": "code",
   "execution_count": 230,
   "metadata": {},
   "outputs": [],
   "source": [
    "# Internal packages\n",
    "from data_preprocess import *"
   ]
  },
  {
   "cell_type": "code",
   "execution_count": 231,
   "metadata": {
    "ExecuteTime": {
     "end_time": "2019-05-11T14:13:16.904108Z",
     "start_time": "2019-05-11T14:12:53.175998Z"
    }
   },
   "outputs": [
    {
     "name": "stderr",
     "output_type": "stream",
     "text": [
      "/usr/local/lib/python3.7/site-packages/IPython/core/interactiveshell.py:3185: DtypeWarning: Columns (14) have mixed types.Specify dtype option on import or set low_memory=False.\n",
      "  if (yield from self.run_code(code, result)):\n",
      "/usr/local/lib/python3.7/site-packages/IPython/core/interactiveshell.py:3185: DtypeWarning: Columns (8,9) have mixed types.Specify dtype option on import or set low_memory=False.\n",
      "  if (yield from self.run_code(code, result)):\n"
     ]
    },
    {
     "name": "stdout",
     "output_type": "stream",
     "text": [
      "1 days    595\n",
      "2 days    179\n",
      "3 days    108\n",
      "4 days     76\n",
      "5 days     62\n",
      "6 days     50\n",
      "7 days     38\n",
      "Name: delta, dtype: int64\n"
     ]
    }
   ],
   "source": [
    "df_all = concatenating_all_platform()\n",
    "X, Y = creating_dataset(df_all)"
   ]
  },
  {
   "cell_type": "code",
   "execution_count": 236,
   "metadata": {},
   "outputs": [
    {
     "name": "stdout",
     "output_type": "stream",
     "text": [
      "(410157, 9)\n"
     ]
    },
    {
     "data": {
      "text/html": [
       "<div>\n",
       "<style scoped>\n",
       "    .dataframe tbody tr th:only-of-type {\n",
       "        vertical-align: middle;\n",
       "    }\n",
       "\n",
       "    .dataframe tbody tr th {\n",
       "        vertical-align: top;\n",
       "    }\n",
       "\n",
       "    .dataframe thead th {\n",
       "        text-align: right;\n",
       "    }\n",
       "</style>\n",
       "<table border=\"1\" class=\"dataframe\">\n",
       "  <thead>\n",
       "    <tr style=\"text-align: right;\">\n",
       "      <th></th>\n",
       "      <th>Respondent ID</th>\n",
       "      <th>Device ID</th>\n",
       "      <th>Local Timestamp</th>\n",
       "      <th>Video Length</th>\n",
       "      <th>Time Of Day</th>\n",
       "      <th>Service</th>\n",
       "      <th>Action</th>\n",
       "      <th>Platform</th>\n",
       "      <th>Local Timestamp floored</th>\n",
       "    </tr>\n",
       "  </thead>\n",
       "  <tbody>\n",
       "    <tr>\n",
       "      <th>57161</th>\n",
       "      <td>00005264-7d42-4b8f-a22a-a7a933c38656</td>\n",
       "      <td>2ba5ed42-7193-0660-9237-684b8fd1e799</td>\n",
       "      <td>2018-03-05 15:06:31</td>\n",
       "      <td>523.0</td>\n",
       "      <td>Afternoon</td>\n",
       "      <td>youtube</td>\n",
       "      <td>Play</td>\n",
       "      <td>Web</td>\n",
       "      <td>2018-03-05</td>\n",
       "    </tr>\n",
       "    <tr>\n",
       "      <th>59024</th>\n",
       "      <td>00005264-7d42-4b8f-a22a-a7a933c38656</td>\n",
       "      <td>2ba5ed42-7193-0660-9237-684b8fd1e799</td>\n",
       "      <td>2018-03-07 09:18:18</td>\n",
       "      <td>567.0</td>\n",
       "      <td>Morning</td>\n",
       "      <td>youtube</td>\n",
       "      <td>Play</td>\n",
       "      <td>Web</td>\n",
       "      <td>2018-03-07</td>\n",
       "    </tr>\n",
       "    <tr>\n",
       "      <th>59027</th>\n",
       "      <td>00005264-7d42-4b8f-a22a-a7a933c38656</td>\n",
       "      <td>2ba5ed42-7193-0660-9237-684b8fd1e799</td>\n",
       "      <td>2018-03-07 09:27:45</td>\n",
       "      <td>106.0</td>\n",
       "      <td>Morning</td>\n",
       "      <td>youtube</td>\n",
       "      <td>Play</td>\n",
       "      <td>Web</td>\n",
       "      <td>2018-03-07</td>\n",
       "    </tr>\n",
       "    <tr>\n",
       "      <th>59031</th>\n",
       "      <td>00005264-7d42-4b8f-a22a-a7a933c38656</td>\n",
       "      <td>2ba5ed42-7193-0660-9237-684b8fd1e799</td>\n",
       "      <td>2018-03-07 09:29:31</td>\n",
       "      <td>4.0</td>\n",
       "      <td>Morning</td>\n",
       "      <td>youtube</td>\n",
       "      <td>Play</td>\n",
       "      <td>Web</td>\n",
       "      <td>2018-03-07</td>\n",
       "    </tr>\n",
       "    <tr>\n",
       "      <th>61340</th>\n",
       "      <td>00005264-7d42-4b8f-a22a-a7a933c38656</td>\n",
       "      <td>2ba5ed42-7193-0660-9237-684b8fd1e799</td>\n",
       "      <td>2018-03-09 14:50:21</td>\n",
       "      <td>54.0</td>\n",
       "      <td>Afternoon</td>\n",
       "      <td>youtube</td>\n",
       "      <td>Play</td>\n",
       "      <td>Web</td>\n",
       "      <td>2018-03-09</td>\n",
       "    </tr>\n",
       "  </tbody>\n",
       "</table>\n",
       "</div>"
      ],
      "text/plain": [
       "                              Respondent ID  \\\n",
       "57161  00005264-7d42-4b8f-a22a-a7a933c38656   \n",
       "59024  00005264-7d42-4b8f-a22a-a7a933c38656   \n",
       "59027  00005264-7d42-4b8f-a22a-a7a933c38656   \n",
       "59031  00005264-7d42-4b8f-a22a-a7a933c38656   \n",
       "61340  00005264-7d42-4b8f-a22a-a7a933c38656   \n",
       "\n",
       "                                  Device ID     Local Timestamp  Video Length  \\\n",
       "57161  2ba5ed42-7193-0660-9237-684b8fd1e799 2018-03-05 15:06:31         523.0   \n",
       "59024  2ba5ed42-7193-0660-9237-684b8fd1e799 2018-03-07 09:18:18         567.0   \n",
       "59027  2ba5ed42-7193-0660-9237-684b8fd1e799 2018-03-07 09:27:45         106.0   \n",
       "59031  2ba5ed42-7193-0660-9237-684b8fd1e799 2018-03-07 09:29:31           4.0   \n",
       "61340  2ba5ed42-7193-0660-9237-684b8fd1e799 2018-03-09 14:50:21          54.0   \n",
       "\n",
       "      Time Of Day  Service Action Platform Local Timestamp floored  \n",
       "57161   Afternoon  youtube   Play      Web              2018-03-05  \n",
       "59024     Morning  youtube   Play      Web              2018-03-07  \n",
       "59027     Morning  youtube   Play      Web              2018-03-07  \n",
       "59031     Morning  youtube   Play      Web              2018-03-07  \n",
       "61340   Afternoon  youtube   Play      Web              2018-03-09  "
      ]
     },
     "execution_count": 236,
     "metadata": {},
     "output_type": "execute_result"
    }
   ],
   "source": [
    "print(X.shape)\n",
    "X.head()"
   ]
  },
  {
   "cell_type": "code",
   "execution_count": 235,
   "metadata": {},
   "outputs": [
    {
     "name": "stdout",
     "output_type": "stream",
     "text": [
      "(1108, 4)\n"
     ]
    },
    {
     "data": {
      "text/html": [
       "<div>\n",
       "<style scoped>\n",
       "    .dataframe tbody tr th:only-of-type {\n",
       "        vertical-align: middle;\n",
       "    }\n",
       "\n",
       "    .dataframe tbody tr th {\n",
       "        vertical-align: top;\n",
       "    }\n",
       "\n",
       "    .dataframe thead th {\n",
       "        text-align: right;\n",
       "    }\n",
       "</style>\n",
       "<table border=\"1\" class=\"dataframe\">\n",
       "  <thead>\n",
       "    <tr style=\"text-align: right;\">\n",
       "      <th></th>\n",
       "      <th>Respondent ID</th>\n",
       "      <th>Platform</th>\n",
       "      <th>Time Of Day</th>\n",
       "      <th>Days</th>\n",
       "    </tr>\n",
       "  </thead>\n",
       "  <tbody>\n",
       "    <tr>\n",
       "      <th>0</th>\n",
       "      <td>00005264-7d42-4b8f-a22a-a7a933c38656</td>\n",
       "      <td>Web</td>\n",
       "      <td>Late Evening</td>\n",
       "      <td>5</td>\n",
       "    </tr>\n",
       "    <tr>\n",
       "      <th>1</th>\n",
       "      <td>000e0929-bd36-441e-9368-db857aaf483c</td>\n",
       "      <td>Mobile</td>\n",
       "      <td>Late Night</td>\n",
       "      <td>1</td>\n",
       "    </tr>\n",
       "    <tr>\n",
       "      <th>2</th>\n",
       "      <td>002bf6f3-8a44-412a-a62a-30426faa4fff</td>\n",
       "      <td>Mobile</td>\n",
       "      <td>Afternoon</td>\n",
       "      <td>1</td>\n",
       "    </tr>\n",
       "    <tr>\n",
       "      <th>3</th>\n",
       "      <td>003749ec-8d02-4b4b-9bcd-6d1dbe450b4c</td>\n",
       "      <td>Mobile</td>\n",
       "      <td>Late Evening</td>\n",
       "      <td>1</td>\n",
       "    </tr>\n",
       "    <tr>\n",
       "      <th>4</th>\n",
       "      <td>0090dd2a-a97d-47fb-8879-dec95c7982ab</td>\n",
       "      <td>Mobile</td>\n",
       "      <td>Afternoon</td>\n",
       "      <td>1</td>\n",
       "    </tr>\n",
       "  </tbody>\n",
       "</table>\n",
       "</div>"
      ],
      "text/plain": [
       "                          Respondent ID Platform   Time Of Day  Days\n",
       "0  00005264-7d42-4b8f-a22a-a7a933c38656      Web  Late Evening     5\n",
       "1  000e0929-bd36-441e-9368-db857aaf483c   Mobile    Late Night     1\n",
       "2  002bf6f3-8a44-412a-a62a-30426faa4fff   Mobile     Afternoon     1\n",
       "3  003749ec-8d02-4b4b-9bcd-6d1dbe450b4c   Mobile  Late Evening     1\n",
       "4  0090dd2a-a97d-47fb-8879-dec95c7982ab   Mobile     Afternoon     1"
      ]
     },
     "execution_count": 235,
     "metadata": {},
     "output_type": "execute_result"
    }
   ],
   "source": [
    "print(Y.shape)\n",
    "Y.head()"
   ]
  },
  {
   "cell_type": "markdown",
   "metadata": {
    "collapsed": true
   },
   "source": [
    "# Building TS"
   ]
  },
  {
   "cell_type": "code",
   "execution_count": 7,
   "metadata": {},
   "outputs": [],
   "source": [
    "# Internal packages\n",
    "from build_timeseries import *"
   ]
  },
  {
   "cell_type": "code",
   "execution_count": 8,
   "metadata": {},
   "outputs": [],
   "source": [
    "X[\"Local Timestamp\"] = X[\"Local Timestamp\"].dt.floor(\"H\")\n",
    "ts = build_empty_matrix(X)\n",
    "X.groupby(\"Respondent ID\").apply(lambda x: build_ts(x, ts))\n",
    "ts_clean = outliers_cap(ts)\n",
    "ts_norm = normalize_ts(ts_clean)"
   ]
  },
  {
   "cell_type": "code",
   "execution_count": 9,
   "metadata": {},
   "outputs": [
    {
     "data": {
      "text/plain": [
       "<matplotlib.axes._subplots.AxesSubplot at 0x12b055c50>"
      ]
     },
     "execution_count": 9,
     "metadata": {},
     "output_type": "execute_result"
    },
    {
     "data": {
      "image/png": "[encoded data removed]",
      "text/plain": [
       "<Figure size 432x288 with 1 Axes>"
      ]
     },
     "metadata": {
      "needs_background": "light"
     },
     "output_type": "display_data"
    }
   ],
   "source": [
    "ts_norm[ts_norm.columns[100:103]].plot()"
   ]
  },
  {
   "cell_type": "markdown",
   "metadata": {},
   "source": [
    "# CNN"
   ]
  },
  {
   "cell_type": "code",
   "execution_count": 10,
   "metadata": {},
   "outputs": [
    {
     "name": "stderr",
     "output_type": "stream",
     "text": [
      "Using TensorFlow backend.\n"
     ]
    }
   ],
   "source": [
    "# External packages\n",
    "## SciKit-Learn\n",
    "from sklearn.model_selection import train_test_split\n",
    "from sklearn.utils import shuffle\n",
    "from sklearn.utils.class_weight import compute_class_weight\n",
    "## Keras\n",
    "from keras.models import Sequential, clone_model, Model, load_model\n",
    "from keras.layers import concatenate, Dense, Activation, Conv2D, Conv1D, Input, MaxPooling1D, Flatten, Reshape, Dropout, UpSampling2D, Conv2DTranspose, UpSampling1D\n",
    "from keras.utils import np_utils\n",
    "from keras.activations import relu\n",
    "from keras import metrics, backend as K, utils, optimizers"
   ]
  },
  {
   "cell_type": "code",
   "execution_count": 11,
   "metadata": {},
   "outputs": [],
   "source": [
    "# size of TS\n",
    "p = 1000"
   ]
  },
  {
   "cell_type": "code",
   "execution_count": 12,
   "metadata": {},
   "outputs": [],
   "source": [
    "def find_last(ser):\n",
    "    return ser[ser > 0].index.max()\n",
    "\n",
    "last_dates = ts_clean.apply(find_last)\n",
    "first_dates = last_dates - datetime.timedelta(hours = p)\n",
    "date_int = pd.concat((first_dates, last_dates), axis=1)\n",
    "date_int.head()\n",
    "ts_cnn = pd.DataFrame(columns=ts_clean.columns, index=list(range(p)))\n",
    "ts_cnn.fillna(0, inplace=True)\n",
    "ts_cnn.head()\n",
    "\n",
    "def fill_ts_cnn(ser):\n",
    "    dates = date_int.loc[ser.name]\n",
    "    temp = ser.copy()\n",
    "    temp = temp[temp.index > dates[0]]\n",
    "    temp = temp[temp.index <= dates[1]]\n",
    "    temp = temp.values\n",
    "    n = len(temp)\n",
    "    temp = np.concatenate(([0] * (p - n), temp))\n",
    "    ts_cnn[ser.name] = temp\n",
    "\n",
    "ts_norm.apply(fill_ts_cnn)\n",
    "ts_cnn = ts_cnn.T"
   ]
  },
  {
   "cell_type": "code",
   "execution_count": 13,
   "metadata": {},
   "outputs": [
    {
     "data": {
      "text/html": [
       "<div>\n",
       "<style scoped>\n",
       "    .dataframe tbody tr th:only-of-type {\n",
       "        vertical-align: middle;\n",
       "    }\n",
       "\n",
       "    .dataframe tbody tr th {\n",
       "        vertical-align: top;\n",
       "    }\n",
       "\n",
       "    .dataframe thead th {\n",
       "        text-align: right;\n",
       "    }\n",
       "</style>\n",
       "<table border=\"1\" class=\"dataframe\">\n",
       "  <thead>\n",
       "    <tr style=\"text-align: right;\">\n",
       "      <th></th>\n",
       "      <th>0</th>\n",
       "      <th>1</th>\n",
       "      <th>2</th>\n",
       "      <th>3</th>\n",
       "      <th>4</th>\n",
       "      <th>5</th>\n",
       "      <th>6</th>\n",
       "      <th>7</th>\n",
       "      <th>8</th>\n",
       "      <th>9</th>\n",
       "      <th>...</th>\n",
       "      <th>990</th>\n",
       "      <th>991</th>\n",
       "      <th>992</th>\n",
       "      <th>993</th>\n",
       "      <th>994</th>\n",
       "      <th>995</th>\n",
       "      <th>996</th>\n",
       "      <th>997</th>\n",
       "      <th>998</th>\n",
       "      <th>999</th>\n",
       "    </tr>\n",
       "  </thead>\n",
       "  <tbody>\n",
       "    <tr>\n",
       "      <th>00005264-7d42-4b8f-a22a-a7a933c38656</th>\n",
       "      <td>0.0</td>\n",
       "      <td>0.0</td>\n",
       "      <td>0.0</td>\n",
       "      <td>0.0</td>\n",
       "      <td>0.0</td>\n",
       "      <td>0.0</td>\n",
       "      <td>0.0</td>\n",
       "      <td>0.0</td>\n",
       "      <td>0.0</td>\n",
       "      <td>0.0</td>\n",
       "      <td>...</td>\n",
       "      <td>0.0</td>\n",
       "      <td>0.0</td>\n",
       "      <td>0.0</td>\n",
       "      <td>0.0</td>\n",
       "      <td>0.0</td>\n",
       "      <td>0.000000</td>\n",
       "      <td>0.0</td>\n",
       "      <td>0.000000</td>\n",
       "      <td>0.0</td>\n",
       "      <td>0.100000</td>\n",
       "    </tr>\n",
       "    <tr>\n",
       "      <th>000e0929-bd36-441e-9368-db857aaf483c</th>\n",
       "      <td>0.0</td>\n",
       "      <td>0.0</td>\n",
       "      <td>0.0</td>\n",
       "      <td>0.0</td>\n",
       "      <td>0.0</td>\n",
       "      <td>0.0</td>\n",
       "      <td>0.0</td>\n",
       "      <td>0.0</td>\n",
       "      <td>0.0</td>\n",
       "      <td>0.0</td>\n",
       "      <td>...</td>\n",
       "      <td>0.0</td>\n",
       "      <td>0.0</td>\n",
       "      <td>0.0</td>\n",
       "      <td>0.0</td>\n",
       "      <td>0.0</td>\n",
       "      <td>0.000000</td>\n",
       "      <td>0.0</td>\n",
       "      <td>0.000000</td>\n",
       "      <td>0.0</td>\n",
       "      <td>0.333333</td>\n",
       "    </tr>\n",
       "    <tr>\n",
       "      <th>002bf6f3-8a44-412a-a62a-30426faa4fff</th>\n",
       "      <td>0.0</td>\n",
       "      <td>0.0</td>\n",
       "      <td>0.0</td>\n",
       "      <td>0.0</td>\n",
       "      <td>0.0</td>\n",
       "      <td>0.0</td>\n",
       "      <td>0.0</td>\n",
       "      <td>0.0</td>\n",
       "      <td>0.0</td>\n",
       "      <td>0.0</td>\n",
       "      <td>...</td>\n",
       "      <td>0.0</td>\n",
       "      <td>0.0</td>\n",
       "      <td>0.0</td>\n",
       "      <td>0.0</td>\n",
       "      <td>0.0</td>\n",
       "      <td>0.000000</td>\n",
       "      <td>0.0</td>\n",
       "      <td>0.000000</td>\n",
       "      <td>0.0</td>\n",
       "      <td>1.000000</td>\n",
       "    </tr>\n",
       "    <tr>\n",
       "      <th>003749ec-8d02-4b4b-9bcd-6d1dbe450b4c</th>\n",
       "      <td>0.0</td>\n",
       "      <td>0.0</td>\n",
       "      <td>0.0</td>\n",
       "      <td>0.0</td>\n",
       "      <td>0.0</td>\n",
       "      <td>0.0</td>\n",
       "      <td>0.0</td>\n",
       "      <td>0.0</td>\n",
       "      <td>0.0</td>\n",
       "      <td>0.0</td>\n",
       "      <td>...</td>\n",
       "      <td>0.0</td>\n",
       "      <td>0.0</td>\n",
       "      <td>0.0</td>\n",
       "      <td>0.0</td>\n",
       "      <td>0.0</td>\n",
       "      <td>0.066667</td>\n",
       "      <td>0.0</td>\n",
       "      <td>0.133333</td>\n",
       "      <td>0.0</td>\n",
       "      <td>0.466667</td>\n",
       "    </tr>\n",
       "    <tr>\n",
       "      <th>0090dd2a-a97d-47fb-8879-dec95c7982ab</th>\n",
       "      <td>0.0</td>\n",
       "      <td>0.0</td>\n",
       "      <td>0.0</td>\n",
       "      <td>0.0</td>\n",
       "      <td>0.0</td>\n",
       "      <td>0.0</td>\n",
       "      <td>0.0</td>\n",
       "      <td>0.0</td>\n",
       "      <td>0.0</td>\n",
       "      <td>0.0</td>\n",
       "      <td>...</td>\n",
       "      <td>0.0</td>\n",
       "      <td>0.0</td>\n",
       "      <td>0.0</td>\n",
       "      <td>0.0</td>\n",
       "      <td>0.0</td>\n",
       "      <td>0.000000</td>\n",
       "      <td>0.0</td>\n",
       "      <td>0.000000</td>\n",
       "      <td>0.0</td>\n",
       "      <td>0.100000</td>\n",
       "    </tr>\n",
       "  </tbody>\n",
       "</table>\n",
       "<p>5 rows × 1000 columns</p>\n",
       "</div>"
      ],
      "text/plain": [
       "                                      0    1    2    3    4    5    6    7    \\\n",
       "00005264-7d42-4b8f-a22a-a7a933c38656  0.0  0.0  0.0  0.0  0.0  0.0  0.0  0.0   \n",
       "000e0929-bd36-441e-9368-db857aaf483c  0.0  0.0  0.0  0.0  0.0  0.0  0.0  0.0   \n",
       "002bf6f3-8a44-412a-a62a-30426faa4fff  0.0  0.0  0.0  0.0  0.0  0.0  0.0  0.0   \n",
       "003749ec-8d02-4b4b-9bcd-6d1dbe450b4c  0.0  0.0  0.0  0.0  0.0  0.0  0.0  0.0   \n",
       "0090dd2a-a97d-47fb-8879-dec95c7982ab  0.0  0.0  0.0  0.0  0.0  0.0  0.0  0.0   \n",
       "\n",
       "                                      8    9    ...  990  991  992  993  994  \\\n",
       "00005264-7d42-4b8f-a22a-a7a933c38656  0.0  0.0  ...  0.0  0.0  0.0  0.0  0.0   \n",
       "000e0929-bd36-441e-9368-db857aaf483c  0.0  0.0  ...  0.0  0.0  0.0  0.0  0.0   \n",
       "002bf6f3-8a44-412a-a62a-30426faa4fff  0.0  0.0  ...  0.0  0.0  0.0  0.0  0.0   \n",
       "003749ec-8d02-4b4b-9bcd-6d1dbe450b4c  0.0  0.0  ...  0.0  0.0  0.0  0.0  0.0   \n",
       "0090dd2a-a97d-47fb-8879-dec95c7982ab  0.0  0.0  ...  0.0  0.0  0.0  0.0  0.0   \n",
       "\n",
       "                                           995  996       997  998       999  \n",
       "00005264-7d42-4b8f-a22a-a7a933c38656  0.000000  0.0  0.000000  0.0  0.100000  \n",
       "000e0929-bd36-441e-9368-db857aaf483c  0.000000  0.0  0.000000  0.0  0.333333  \n",
       "002bf6f3-8a44-412a-a62a-30426faa4fff  0.000000  0.0  0.000000  0.0  1.000000  \n",
       "003749ec-8d02-4b4b-9bcd-6d1dbe450b4c  0.066667  0.0  0.133333  0.0  0.466667  \n",
       "0090dd2a-a97d-47fb-8879-dec95c7982ab  0.000000  0.0  0.000000  0.0  0.100000  \n",
       "\n",
       "[5 rows x 1000 columns]"
      ]
     },
     "execution_count": 13,
     "metadata": {},
     "output_type": "execute_result"
    }
   ],
   "source": [
    "ts_cnn.head()"
   ]
  },
  {
   "cell_type": "markdown",
   "metadata": {},
   "source": [
    "# Autoencoder"
   ]
  },
  {
   "cell_type": "code",
   "execution_count": 14,
   "metadata": {},
   "outputs": [
    {
     "name": "stdout",
     "output_type": "stream",
     "text": [
      "WARNING:tensorflow:From /usr/local/lib/python3.7/site-packages/tensorflow/python/framework/op_def_library.py:263: colocate_with (from tensorflow.python.framework.ops) is deprecated and will be removed in a future version.\n",
      "Instructions for updating:\n",
      "Colocations handled automatically by placer.\n",
      "_________________________________________________________________\n",
      "Layer (type)                 Output Shape              Param #   \n",
      "=================================================================\n",
      "input_1 (InputLayer)         (None, 1000, 1)           0         \n",
      "_________________________________________________________________\n",
      "conv1d_1 (Conv1D)            (None, 1000, 4)           84        \n",
      "_________________________________________________________________\n",
      "max_pooling1d_1 (MaxPooling1 (None, 100, 4)            0         \n",
      "_________________________________________________________________\n",
      "conv1d_2 (Conv1D)            (None, 100, 4)            324       \n",
      "_________________________________________________________________\n",
      "max_pooling1d_2 (MaxPooling1 (None, 10, 4)             0         \n",
      "_________________________________________________________________\n",
      "flatten_1 (Flatten)          (None, 40)                0         \n",
      "_________________________________________________________________\n",
      "reshape_1 (Reshape)          (None, 10, 4)             0         \n",
      "_________________________________________________________________\n",
      "conv1d_3 (Conv1D)            (None, 10, 4)             324       \n",
      "_________________________________________________________________\n",
      "up_sampling1d_1 (UpSampling1 (None, 100, 4)            0         \n",
      "_________________________________________________________________\n",
      "conv1d_4 (Conv1D)            (None, 100, 4)            324       \n",
      "_________________________________________________________________\n",
      "up_sampling1d_2 (UpSampling1 (None, 1000, 4)           0         \n",
      "_________________________________________________________________\n",
      "dense_1 (Dense)              (None, 1000, 1)           5         \n",
      "=================================================================\n",
      "Total params: 1,061\n",
      "Trainable params: 1,061\n",
      "Non-trainable params: 0\n",
      "_________________________________________________________________\n"
     ]
    }
   ],
   "source": [
    "input_ts = Input(shape=(p, 1))\n",
    "\n",
    "x = Conv1D(4, kernel_size=20, activation='relu', padding='same')(input_ts)\n",
    "x = MaxPooling1D(10, padding='same')(x)\n",
    "x = Conv1D(4, 20, activation='relu', padding='same')(x)\n",
    "x = MaxPooling1D(10, padding='same')(x)\n",
    "encoded = Flatten()(x)\n",
    "x = Reshape((10, -1))(encoded)\n",
    "x = Conv1D(4, 20, activation='relu', padding='same')(x)\n",
    "x = UpSampling1D(10)(x)\n",
    "x = Conv1D(4, 20, activation='relu', padding='same')(x)\n",
    "x = UpSampling1D(10)(x)\n",
    "decoded = Dense(1, activation='relu')(x)\n",
    "\n",
    "autoencoder = Model(input_ts, decoded)\n",
    "autoencoder.summary()\n",
    "adam = optimizers.Adam(lr=0.001)\n",
    "autoencoder.compile(optimizer=adam, loss='mean_squared_error')"
   ]
  },
  {
   "cell_type": "code",
   "execution_count": 238,
   "metadata": {
    "scrolled": true
   },
   "outputs": [
    {
     "name": "stdout",
     "output_type": "stream",
     "text": [
      "Epoch 1/200\n",
      "1108/1108 [==============================] - 0s 419us/step - loss: 0.0055\n",
      "Epoch 2/200\n",
      "1108/1108 [==============================] - 1s 473us/step - loss: 0.0055\n",
      "Epoch 3/200\n",
      "1108/1108 [==============================] - 1s 682us/step - loss: 0.0055\n",
      "Epoch 4/200\n",
      "1108/1108 [==============================] - 0s 439us/step - loss: 0.0055\n",
      "Epoch 5/200\n",
      "1108/1108 [==============================] - 0s 425us/step - loss: 0.0055\n",
      "Epoch 6/200\n",
      "1108/1108 [==============================] - 1s 454us/step - loss: 0.0055\n",
      "Epoch 7/200\n",
      "1108/1108 [==============================] - 1s 489us/step - loss: 0.0055\n",
      "Epoch 8/200\n",
      "1108/1108 [==============================] - 1s 472us/step - loss: 0.0055\n",
      "Epoch 9/200\n",
      "1108/1108 [==============================] - 0s 443us/step - loss: 0.0055\n",
      "Epoch 10/200\n",
      "1108/1108 [==============================] - 1s 573us/step - loss: 0.0055\n",
      "Epoch 11/200\n",
      "1108/1108 [==============================] - 1s 453us/step - loss: 0.0055\n",
      "Epoch 12/200\n",
      "1108/1108 [==============================] - 0s 439us/step - loss: 0.0055\n",
      "Epoch 13/200\n",
      "1108/1108 [==============================] - 0s 415us/step - loss: 0.0055\n",
      "Epoch 14/200\n",
      "1108/1108 [==============================] - 1s 476us/step - loss: 0.0055\n",
      "Epoch 15/200\n",
      "1108/1108 [==============================] - 0s 434us/step - loss: 0.0055\n",
      "Epoch 16/200\n",
      "1108/1108 [==============================] - 0s 403us/step - loss: 0.0055\n",
      "Epoch 17/200\n",
      "1108/1108 [==============================] - 0s 425us/step - loss: 0.0055\n",
      "Epoch 18/200\n",
      "1108/1108 [==============================] - 0s 405us/step - loss: 0.0055\n",
      "Epoch 19/200\n",
      "1108/1108 [==============================] - 1s 456us/step - loss: 0.0055\n",
      "Epoch 20/200\n",
      "1108/1108 [==============================] - 0s 420us/step - loss: 0.0055\n",
      "Epoch 21/200\n",
      "1108/1108 [==============================] - 1s 496us/step - loss: 0.0055\n",
      "Epoch 22/200\n",
      "1108/1108 [==============================] - 0s 423us/step - loss: 0.0055\n",
      "Epoch 23/200\n",
      "1108/1108 [==============================] - 1s 457us/step - loss: 0.0055\n",
      "Epoch 24/200\n",
      "1108/1108 [==============================] - 0s 428us/step - loss: 0.0055\n",
      "Epoch 25/200\n",
      "1108/1108 [==============================] - 0s 401us/step - loss: 0.0055\n",
      "Epoch 26/200\n",
      "1108/1108 [==============================] - 0s 401us/step - loss: 0.0055\n",
      "Epoch 27/200\n",
      "1108/1108 [==============================] - 0s 410us/step - loss: 0.0055\n",
      "Epoch 28/200\n",
      "1108/1108 [==============================] - 0s 444us/step - loss: 0.0055\n",
      "Epoch 29/200\n",
      "1108/1108 [==============================] - 0s 447us/step - loss: 0.0055\n",
      "Epoch 30/200\n",
      "1108/1108 [==============================] - 0s 411us/step - loss: 0.0055\n",
      "Epoch 31/200\n",
      "1108/1108 [==============================] - 0s 402us/step - loss: 0.0055\n",
      "Epoch 32/200\n",
      "1108/1108 [==============================] - 0s 421us/step - loss: 0.0055\n",
      "Epoch 33/200\n",
      "1108/1108 [==============================] - 0s 408us/step - loss: 0.0055\n",
      "Epoch 34/200\n",
      "1108/1108 [==============================] - 0s 402us/step - loss: 0.0055\n",
      "Epoch 35/200\n",
      "1108/1108 [==============================] - 0s 400us/step - loss: 0.0055\n",
      "Epoch 36/200\n",
      "1108/1108 [==============================] - 0s 426us/step - loss: 0.0055\n",
      "Epoch 37/200\n",
      "1108/1108 [==============================] - 0s 403us/step - loss: 0.0055\n",
      "Epoch 38/200\n",
      "1108/1108 [==============================] - 0s 400us/step - loss: 0.0055\n",
      "Epoch 39/200\n",
      "1108/1108 [==============================] - 0s 407us/step - loss: 0.0055\n",
      "Epoch 40/200\n",
      "1108/1108 [==============================] - 0s 423us/step - loss: 0.0055\n",
      "Epoch 41/200\n",
      "1108/1108 [==============================] - 0s 413us/step - loss: 0.0055\n",
      "Epoch 42/200\n",
      "1108/1108 [==============================] - 0s 413us/step - loss: 0.0055\n",
      "Epoch 43/200\n",
      "1108/1108 [==============================] - 0s 424us/step - loss: 0.0055\n",
      "Epoch 44/200\n",
      "1108/1108 [==============================] - 0s 405us/step - loss: 0.0055\n",
      "Epoch 45/200\n",
      "1108/1108 [==============================] - 0s 409us/step - loss: 0.0055\n",
      "Epoch 46/200\n",
      "1108/1108 [==============================] - 0s 407us/step - loss: 0.0055\n",
      "Epoch 47/200\n",
      "1108/1108 [==============================] - 0s 401us/step - loss: 0.0055\n",
      "Epoch 48/200\n",
      "1108/1108 [==============================] - 0s 408us/step - loss: 0.0055\n",
      "Epoch 49/200\n",
      "1108/1108 [==============================] - 0s 441us/step - loss: 0.0055\n",
      "Epoch 50/200\n",
      "1108/1108 [==============================] - 0s 415us/step - loss: 0.0055\n",
      "Epoch 51/200\n",
      "1108/1108 [==============================] - 0s 406us/step - loss: 0.0055\n",
      "Epoch 52/200\n",
      "1108/1108 [==============================] - 0s 418us/step - loss: 0.0055\n",
      "Epoch 53/200\n",
      "1108/1108 [==============================] - 0s 416us/step - loss: 0.0055\n",
      "Epoch 54/200\n",
      "1108/1108 [==============================] - 0s 417us/step - loss: 0.0055\n",
      "Epoch 55/200\n",
      "1108/1108 [==============================] - 0s 419us/step - loss: 0.0055\n",
      "Epoch 56/200\n",
      "1108/1108 [==============================] - 0s 415us/step - loss: 0.0055\n",
      "Epoch 57/200\n",
      "1108/1108 [==============================] - 0s 438us/step - loss: 0.0055\n",
      "Epoch 58/200\n",
      "1108/1108 [==============================] - 0s 427us/step - loss: 0.0055\n",
      "Epoch 59/200\n",
      "1108/1108 [==============================] - 0s 427us/step - loss: 0.0055\n",
      "Epoch 60/200\n",
      "1108/1108 [==============================] - 0s 423us/step - loss: 0.0054\n",
      "Epoch 61/200\n",
      "1108/1108 [==============================] - 0s 424us/step - loss: 0.0055\n",
      "Epoch 62/200\n",
      "1108/1108 [==============================] - 0s 430us/step - loss: 0.0055\n",
      "Epoch 63/200\n",
      "1108/1108 [==============================] - 0s 426us/step - loss: 0.0055\n",
      "Epoch 64/200\n",
      "1108/1108 [==============================] - 0s 443us/step - loss: 0.0055\n",
      "Epoch 65/200\n",
      "1108/1108 [==============================] - 0s 443us/step - loss: 0.0055\n",
      "Epoch 66/200\n",
      "1108/1108 [==============================] - 0s 433us/step - loss: 0.0054\n",
      "Epoch 67/200\n",
      "1108/1108 [==============================] - 0s 425us/step - loss: 0.0054\n",
      "Epoch 68/200\n",
      "1108/1108 [==============================] - 1s 483us/step - loss: 0.0055\n",
      "Epoch 69/200\n",
      "1108/1108 [==============================] - 0s 450us/step - loss: 0.0055\n",
      "Epoch 70/200\n",
      "1108/1108 [==============================] - 1s 492us/step - loss: 0.0054\n",
      "Epoch 71/200\n",
      "1108/1108 [==============================] - 1s 467us/step - loss: 0.0054\n",
      "Epoch 72/200\n",
      "1108/1108 [==============================] - 0s 443us/step - loss: 0.0055\n",
      "Epoch 73/200\n",
      "1108/1108 [==============================] - 0s 436us/step - loss: 0.0055\n",
      "Epoch 74/200\n",
      "1108/1108 [==============================] - 0s 427us/step - loss: 0.0055\n",
      "Epoch 75/200\n",
      "1108/1108 [==============================] - 0s 414us/step - loss: 0.0055\n",
      "Epoch 76/200\n",
      "1108/1108 [==============================] - 0s 415us/step - loss: 0.0055\n",
      "Epoch 77/200\n",
      "1108/1108 [==============================] - 0s 413us/step - loss: 0.0054\n",
      "Epoch 78/200\n",
      "1108/1108 [==============================] - 0s 419us/step - loss: 0.0054\n",
      "Epoch 79/200\n",
      "1108/1108 [==============================] - 0s 417us/step - loss: 0.0054\n",
      "Epoch 80/200\n",
      "1108/1108 [==============================] - 0s 417us/step - loss: 0.0054\n",
      "Epoch 81/200\n",
      "1108/1108 [==============================] - 0s 409us/step - loss: 0.0054\n",
      "Epoch 82/200\n",
      "1108/1108 [==============================] - 0s 425us/step - loss: 0.0054\n",
      "Epoch 83/200\n",
      "1108/1108 [==============================] - 1s 474us/step - loss: 0.0054\n",
      "Epoch 84/200\n",
      "1108/1108 [==============================] - 1s 473us/step - loss: 0.0054\n",
      "Epoch 85/200\n",
      "1108/1108 [==============================] - 0s 437us/step - loss: 0.0054\n",
      "Epoch 86/200\n",
      "1108/1108 [==============================] - 0s 441us/step - loss: 0.0055\n",
      "Epoch 87/200\n",
      "1108/1108 [==============================] - 0s 449us/step - loss: 0.0054\n",
      "Epoch 88/200\n",
      "1108/1108 [==============================] - 1s 460us/step - loss: 0.0054\n",
      "Epoch 89/200\n",
      "1108/1108 [==============================] - 0s 426us/step - loss: 0.0055\n",
      "Epoch 90/200\n",
      "1108/1108 [==============================] - 1s 463us/step - loss: 0.0054\n",
      "Epoch 91/200\n",
      "1108/1108 [==============================] - 0s 442us/step - loss: 0.0054\n",
      "Epoch 92/200\n",
      "1108/1108 [==============================] - 0s 450us/step - loss: 0.0054\n",
      "Epoch 93/200\n",
      "1108/1108 [==============================] - 0s 451us/step - loss: 0.0054\n",
      "Epoch 94/200\n",
      "1108/1108 [==============================] - 1s 452us/step - loss: 0.0054\n",
      "Epoch 95/200\n"
     ]
    },
    {
     "name": "stdout",
     "output_type": "stream",
     "text": [
      "1108/1108 [==============================] - 0s 427us/step - loss: 0.0054\n",
      "Epoch 96/200\n",
      "1108/1108 [==============================] - 0s 431us/step - loss: 0.0054\n",
      "Epoch 97/200\n",
      "1108/1108 [==============================] - 0s 390us/step - loss: 0.0054\n",
      "Epoch 98/200\n",
      "1108/1108 [==============================] - 0s 448us/step - loss: 0.0054\n",
      "Epoch 99/200\n",
      "1108/1108 [==============================] - 0s 445us/step - loss: 0.0054\n",
      "Epoch 100/200\n",
      "1108/1108 [==============================] - 1s 473us/step - loss: 0.0054\n",
      "Epoch 101/200\n",
      "1108/1108 [==============================] - 0s 421us/step - loss: 0.0054\n",
      "Epoch 102/200\n",
      "1108/1108 [==============================] - 0s 443us/step - loss: 0.0054\n",
      "Epoch 103/200\n",
      "1108/1108 [==============================] - 0s 431us/step - loss: 0.0054\n",
      "Epoch 104/200\n",
      "1108/1108 [==============================] - 0s 426us/step - loss: 0.0054\n",
      "Epoch 105/200\n",
      "1108/1108 [==============================] - 0s 395us/step - loss: 0.0054\n",
      "Epoch 106/200\n",
      "1108/1108 [==============================] - 0s 449us/step - loss: 0.0054\n",
      "Epoch 107/200\n",
      "1108/1108 [==============================] - 0s 427us/step - loss: 0.0054\n",
      "Epoch 108/200\n",
      "1108/1108 [==============================] - 0s 400us/step - loss: 0.0054\n",
      "Epoch 109/200\n",
      "1108/1108 [==============================] - 0s 377us/step - loss: 0.0054\n",
      "Epoch 110/200\n",
      "1108/1108 [==============================] - 0s 422us/step - loss: 0.0054\n",
      "Epoch 111/200\n",
      "1108/1108 [==============================] - 0s 432us/step - loss: 0.0054\n",
      "Epoch 112/200\n",
      "1108/1108 [==============================] - 0s 396us/step - loss: 0.0054\n",
      "Epoch 113/200\n",
      "1108/1108 [==============================] - 0s 410us/step - loss: 0.0054\n",
      "Epoch 114/200\n",
      "1108/1108 [==============================] - 0s 403us/step - loss: 0.0054\n",
      "Epoch 115/200\n",
      "1108/1108 [==============================] - 0s 414us/step - loss: 0.0054\n",
      "Epoch 116/200\n",
      "1108/1108 [==============================] - 0s 402us/step - loss: 0.0054\n",
      "Epoch 117/200\n",
      "1108/1108 [==============================] - 0s 434us/step - loss: 0.0054\n",
      "Epoch 118/200\n",
      "1108/1108 [==============================] - 0s 426us/step - loss: 0.0054\n",
      "Epoch 119/200\n",
      "1108/1108 [==============================] - 0s 418us/step - loss: 0.0054\n",
      "Epoch 120/200\n",
      "1108/1108 [==============================] - 0s 401us/step - loss: 0.0054\n",
      "Epoch 121/200\n",
      "1108/1108 [==============================] - 0s 395us/step - loss: 0.0055\n",
      "Epoch 122/200\n",
      "1108/1108 [==============================] - 0s 389us/step - loss: 0.0054\n",
      "Epoch 123/200\n",
      "1108/1108 [==============================] - 0s 394us/step - loss: 0.0054\n",
      "Epoch 124/200\n",
      "1108/1108 [==============================] - 0s 436us/step - loss: 0.0054\n",
      "Epoch 125/200\n",
      "1108/1108 [==============================] - 0s 410us/step - loss: 0.0054\n",
      "Epoch 126/200\n",
      "1108/1108 [==============================] - 0s 405us/step - loss: 0.0054\n",
      "Epoch 127/200\n",
      "1108/1108 [==============================] - 0s 406us/step - loss: 0.0054\n",
      "Epoch 128/200\n",
      "1108/1108 [==============================] - 0s 435us/step - loss: 0.0054\n",
      "Epoch 129/200\n",
      "1108/1108 [==============================] - 0s 429us/step - loss: 0.0054\n",
      "Epoch 130/200\n",
      "1108/1108 [==============================] - 0s 403us/step - loss: 0.0054\n",
      "Epoch 131/200\n",
      "1108/1108 [==============================] - 0s 396us/step - loss: 0.0054\n",
      "Epoch 132/200\n",
      "1108/1108 [==============================] - 0s 431us/step - loss: 0.0054\n",
      "Epoch 133/200\n",
      "1108/1108 [==============================] - 0s 407us/step - loss: 0.0054\n",
      "Epoch 134/200\n",
      "1108/1108 [==============================] - 0s 416us/step - loss: 0.0054\n",
      "Epoch 135/200\n",
      "1108/1108 [==============================] - 0s 435us/step - loss: 0.0054\n",
      "Epoch 136/200\n",
      "1108/1108 [==============================] - 1s 453us/step - loss: 0.0054\n",
      "Epoch 137/200\n",
      "1108/1108 [==============================] - 0s 413us/step - loss: 0.0054\n",
      "Epoch 138/200\n",
      "1108/1108 [==============================] - 0s 426us/step - loss: 0.0054\n",
      "Epoch 139/200\n",
      "1108/1108 [==============================] - 0s 399us/step - loss: 0.0054\n",
      "Epoch 140/200\n",
      "1108/1108 [==============================] - 0s 392us/step - loss: 0.0054\n",
      "Epoch 141/200\n",
      "1108/1108 [==============================] - 0s 416us/step - loss: 0.0055\n",
      "Epoch 142/200\n",
      "1108/1108 [==============================] - 1s 499us/step - loss: 0.0054\n",
      "Epoch 143/200\n",
      "1108/1108 [==============================] - 0s 449us/step - loss: 0.0054\n",
      "Epoch 144/200\n",
      "1108/1108 [==============================] - 1s 503us/step - loss: 0.0054\n",
      "Epoch 145/200\n",
      "1108/1108 [==============================] - 1s 460us/step - loss: 0.0054\n",
      "Epoch 146/200\n",
      "1108/1108 [==============================] - 1s 512us/step - loss: 0.0054\n",
      "Epoch 147/200\n",
      "1108/1108 [==============================] - 0s 444us/step - loss: 0.0054\n",
      "Epoch 148/200\n",
      "1108/1108 [==============================] - 1s 497us/step - loss: 0.0054\n",
      "Epoch 149/200\n",
      "1108/1108 [==============================] - 1s 475us/step - loss: 0.0054\n",
      "Epoch 150/200\n",
      "1108/1108 [==============================] - 0s 445us/step - loss: 0.0054\n",
      "Epoch 151/200\n",
      "1108/1108 [==============================] - 0s 431us/step - loss: 0.0054\n",
      "Epoch 152/200\n",
      "1108/1108 [==============================] - 0s 437us/step - loss: 0.0054\n",
      "Epoch 153/200\n",
      "1108/1108 [==============================] - 0s 432us/step - loss: 0.0054\n",
      "Epoch 154/200\n",
      "1108/1108 [==============================] - 0s 431us/step - loss: 0.0054\n",
      "Epoch 155/200\n",
      "1108/1108 [==============================] - 0s 435us/step - loss: 0.0054\n",
      "Epoch 156/200\n",
      "1108/1108 [==============================] - 1s 463us/step - loss: 0.0054\n",
      "Epoch 157/200\n",
      "1108/1108 [==============================] - 0s 430us/step - loss: 0.0054\n",
      "Epoch 158/200\n",
      "1108/1108 [==============================] - 0s 434us/step - loss: 0.0054\n",
      "Epoch 159/200\n",
      "1108/1108 [==============================] - 0s 433us/step - loss: 0.0054\n",
      "Epoch 160/200\n",
      "1108/1108 [==============================] - 0s 427us/step - loss: 0.0054\n",
      "Epoch 161/200\n",
      "1108/1108 [==============================] - 0s 431us/step - loss: 0.0054\n",
      "Epoch 162/200\n",
      "1108/1108 [==============================] - 0s 435us/step - loss: 0.0054\n",
      "Epoch 163/200\n",
      "1108/1108 [==============================] - 0s 438us/step - loss: 0.0054\n",
      "Epoch 164/200\n",
      "1108/1108 [==============================] - 1s 500us/step - loss: 0.0054\n",
      "Epoch 165/200\n",
      "1108/1108 [==============================] - 1s 457us/step - loss: 0.0054\n",
      "Epoch 166/200\n",
      "1108/1108 [==============================] - 0s 450us/step - loss: 0.0054\n",
      "Epoch 167/200\n",
      "1108/1108 [==============================] - 1s 537us/step - loss: 0.0054\n",
      "Epoch 168/200\n",
      "1108/1108 [==============================] - 1s 570us/step - loss: 0.0054\n",
      "Epoch 169/200\n",
      "1108/1108 [==============================] - 1s 574us/step - loss: 0.0054\n",
      "Epoch 170/200\n",
      "1108/1108 [==============================] - 1s 488us/step - loss: 0.0054\n",
      "Epoch 171/200\n",
      "1108/1108 [==============================] - 1s 560us/step - loss: 0.0054\n",
      "Epoch 172/200\n",
      "1108/1108 [==============================] - 1s 564us/step - loss: 0.0054\n",
      "Epoch 173/200\n",
      "1108/1108 [==============================] - 1s 485us/step - loss: 0.0054\n",
      "Epoch 174/200\n",
      "1108/1108 [==============================] - 1s 485us/step - loss: 0.0054\n",
      "Epoch 175/200\n",
      "1108/1108 [==============================] - 1s 504us/step - loss: 0.0054\n",
      "Epoch 176/200\n",
      "1108/1108 [==============================] - 1s 474us/step - loss: 0.0054\n",
      "Epoch 177/200\n",
      "1108/1108 [==============================] - 1s 478us/step - loss: 0.0054\n",
      "Epoch 178/200\n",
      "1108/1108 [==============================] - 1s 473us/step - loss: 0.0054\n",
      "Epoch 179/200\n",
      "1108/1108 [==============================] - 0s 446us/step - loss: 0.0054\n",
      "Epoch 180/200\n",
      "1108/1108 [==============================] - 1s 453us/step - loss: 0.0054\n",
      "Epoch 181/200\n",
      "1108/1108 [==============================] - 0s 451us/step - loss: 0.0054\n",
      "Epoch 182/200\n",
      "1108/1108 [==============================] - 0s 439us/step - loss: 0.0054\n",
      "Epoch 183/200\n",
      "1108/1108 [==============================] - 0s 449us/step - loss: 0.0054\n",
      "Epoch 184/200\n",
      "1108/1108 [==============================] - 1s 452us/step - loss: 0.0054\n",
      "Epoch 185/200\n",
      "1108/1108 [==============================] - 1s 470us/step - loss: 0.0054\n",
      "Epoch 186/200\n",
      "1108/1108 [==============================] - 1s 600us/step - loss: 0.0054\n",
      "Epoch 187/200\n",
      "1108/1108 [==============================] - 1s 637us/step - loss: 0.0054\n",
      "Epoch 188/200\n"
     ]
    },
    {
     "name": "stdout",
     "output_type": "stream",
     "text": [
      "1108/1108 [==============================] - 1s 504us/step - loss: 0.0054\n",
      "Epoch 189/200\n",
      "1108/1108 [==============================] - 0s 445us/step - loss: 0.0054\n",
      "Epoch 190/200\n",
      "1108/1108 [==============================] - 0s 427us/step - loss: 0.0054\n",
      "Epoch 191/200\n",
      "1108/1108 [==============================] - 0s 420us/step - loss: 0.0054\n",
      "Epoch 192/200\n",
      "1108/1108 [==============================] - 0s 410us/step - loss: 0.0054\n",
      "Epoch 193/200\n",
      "1108/1108 [==============================] - 0s 405us/step - loss: 0.0054\n",
      "Epoch 194/200\n",
      "1108/1108 [==============================] - 0s 427us/step - loss: 0.0054\n",
      "Epoch 195/200\n",
      "1108/1108 [==============================] - 1s 498us/step - loss: 0.0054\n",
      "Epoch 196/200\n",
      "1108/1108 [==============================] - 1s 502us/step - loss: 0.0054\n",
      "Epoch 197/200\n",
      "1108/1108 [==============================] - 0s 424us/step - loss: 0.0054\n",
      "Epoch 198/200\n",
      "1108/1108 [==============================] - 0s 424us/step - loss: 0.0054\n",
      "Epoch 199/200\n",
      "1108/1108 [==============================] - 0s 442us/step - loss: 0.0054\n",
      "Epoch 200/200\n",
      "1108/1108 [==============================] - 0s 445us/step - loss: 0.0054\n"
     ]
    },
    {
     "data": {
      "text/plain": [
       "<keras.callbacks.History at 0x138827dd0>"
      ]
     },
     "execution_count": 238,
     "metadata": {},
     "output_type": "execute_result"
    }
   ],
   "source": [
    "X = ts_cnn.values.reshape(-1,p,1)\n",
    "autoencoder.fit(X, X, epochs=200, batch_size=64)"
   ]
  },
  {
   "cell_type": "code",
   "execution_count": 239,
   "metadata": {},
   "outputs": [
    {
     "data": {
      "image/png": "[encoded data removed]",
      "text/plain": [
       "<Figure size 432x288 with 1 Axes>"
      ]
     },
     "metadata": {
      "needs_background": "light"
     },
     "output_type": "display_data"
    }
   ],
   "source": [
    "plt.close()\n",
    "i = np.random.randint(1000)\n",
    "plt.plot(X[i])\n",
    "plt.plot(autoencoder.predict(X[i].reshape(-1, p, 1))[0], c='r')\n",
    "plt.savefig(\"./viz/Fig_Autoencoder_TS6.png\", dpi = 300)\n",
    "plt.show()"
   ]
  },
  {
   "cell_type": "code",
   "execution_count": 240,
   "metadata": {},
   "outputs": [
    {
     "name": "stdout",
     "output_type": "stream",
     "text": [
      "_________________________________________________________________\n",
      "Layer (type)                 Output Shape              Param #   \n",
      "=================================================================\n",
      "input_1 (InputLayer)         (None, 1000, 1)           0         \n",
      "_________________________________________________________________\n",
      "conv1d_1 (Conv1D)            (None, 1000, 4)           84        \n",
      "_________________________________________________________________\n",
      "max_pooling1d_1 (MaxPooling1 (None, 100, 4)            0         \n",
      "_________________________________________________________________\n",
      "conv1d_2 (Conv1D)            (None, 100, 4)            324       \n",
      "_________________________________________________________________\n",
      "max_pooling1d_2 (MaxPooling1 (None, 10, 4)             0         \n",
      "_________________________________________________________________\n",
      "flatten_1 (Flatten)          (None, 40)                0         \n",
      "=================================================================\n",
      "Total params: 408\n",
      "Trainable params: 408\n",
      "Non-trainable params: 0\n",
      "_________________________________________________________________\n"
     ]
    }
   ],
   "source": [
    "encoder = Model(inputs=autoencoder.input, outputs=encoded)\n",
    "encoder.summary()"
   ]
  },
  {
   "cell_type": "markdown",
   "metadata": {},
   "source": [
    "# Clustering"
   ]
  },
  {
   "cell_type": "code",
   "execution_count": 241,
   "metadata": {},
   "outputs": [],
   "source": [
    "# External packages\n",
    "from sklearn.cluster import KMeans"
   ]
  },
  {
   "cell_type": "code",
   "execution_count": 464,
   "metadata": {},
   "outputs": [],
   "source": [
    "n_clusters = 4\n",
    "X_encoded = encoder.predict(X)\n",
    "behaviour_clusters = KMeans(n_clusters=n_clusters, random_state=20).fit_predict(X_encoded)\n",
    "n_customers = len(behaviour_clusters)\n",
    "rgba = lambda x: plt.get_cmap(\"rainbow\")(x / n_clusters)"
   ]
  },
  {
   "cell_type": "code",
   "execution_count": 465,
   "metadata": {},
   "outputs": [],
   "source": [
    "clusters = []\n",
    "for cluster_k in range(n_clusters):\n",
    "    cluster = np.where(behaviour_clusters == cluster_k)\n",
    "    clusters.append(cluster[0])\n",
    "\n",
    "def plot_some_customers(k, n = 3):\n",
    "    if (k >= len(clusters)):\n",
    "        print(\"No cluster found for k = {}\".format(k))\n",
    "        return\n",
    "    cluster = clusters[k]\n",
    "    n_members = len(clusters[k])\n",
    "    print(\"Category #{} has {} members ({}%)\".format(k + 1, n_members, round(100 * n_members / n_customers)))\n",
    "    print(\"Here are some of them :\")\n",
    "    for i in range(n):\n",
    "        some_customer_in_cluster_k = cluster[np.random.randint(len(cluster))]\n",
    "        plt.figure()\n",
    "        plt.plot(X[some_customer_in_cluster_k], c=rgba(k))\n",
    "        plt.show()\n",
    "        \n",
    "def compare_two_clusters(k1, k2, n = 3):\n",
    "    plt.figure()\n",
    "    cluster_1 = clusters[k1]\n",
    "    some_customer_1 = cluster_1[np.random.randint(len(cluster_1))]\n",
    "    plt.plot(X[some_customer_1], c=rgba(k1))\n",
    "    cluster_2 = clusters[k2]\n",
    "    some_customer_2 = cluster_2[np.random.randint(len(cluster_2))]\n",
    "    plt.plot(X[some_customer_2], c=rgba(k2))\n",
    "    plt.show()"
   ]
  },
  {
   "cell_type": "code",
   "execution_count": 481,
   "metadata": {},
   "outputs": [
    {
     "name": "stdout",
     "output_type": "stream",
     "text": [
      "Category #1 has 602 members (54%)\n",
      "Here are some of them :\n"
     ]
    },
    {
     "data": {
      "image/png": "[encoded data removed]",
      "text/plain": [
       "<Figure size 432x288 with 1 Axes>"
      ]
     },
     "metadata": {
      "needs_background": "light"
     },
     "output_type": "display_data"
    },
    {
     "data": {
      "image/png": "[encoded data removed]",
      "text/plain": [
       "<Figure size 432x288 with 1 Axes>"
      ]
     },
     "metadata": {
      "needs_background": "light"
     },
     "output_type": "display_data"
    },
    {
     "data": {
      "image/png": "[encoded data removed]",
      "text/plain": [
       "<Figure size 432x288 with 1 Axes>"
      ]
     },
     "metadata": {
      "needs_background": "light"
     },
     "output_type": "display_data"
    },
    {
     "data": {
      "image/png": "[encoded data removed]",
      "text/plain": [
       "<Figure size 432x288 with 1 Axes>"
      ]
     },
     "metadata": {
      "needs_background": "light"
     },
     "output_type": "display_data"
    },
    {
     "data": {
      "image/png": "[encoded data removed]",
      "text/plain": [
       "<Figure size 432x288 with 1 Axes>"
      ]
     },
     "metadata": {
      "needs_background": "light"
     },
     "output_type": "display_data"
    }
   ],
   "source": [
    "plot_some_customers(0, 5)"
   ]
  },
  {
   "cell_type": "code",
   "execution_count": 482,
   "metadata": {},
   "outputs": [
    {
     "name": "stdout",
     "output_type": "stream",
     "text": [
      "Category #2 has 107 members (10%)\n",
      "Here are some of them :\n"
     ]
    },
    {
     "data": {
      "image/png": "[encoded data removed]",
      "text/plain": [
       "<Figure size 432x288 with 1 Axes>"
      ]
     },
     "metadata": {
      "needs_background": "light"
     },
     "output_type": "display_data"
    },
    {
     "data": {
      "image/png": "[encoded data removed]",
      "text/plain": [
       "<Figure size 432x288 with 1 Axes>"
      ]
     },
     "metadata": {
      "needs_background": "light"
     },
     "output_type": "display_data"
    },
    {
     "data": {
      "image/png": "[encoded data removed]",
      "text/plain": [
       "<Figure size 432x288 with 1 Axes>"
      ]
     },
     "metadata": {
      "needs_background": "light"
     },
     "output_type": "display_data"
    },
    {
     "data": {
      "image/png": "[encoded data removed]",
      "text/plain": [
       "<Figure size 432x288 with 1 Axes>"
      ]
     },
     "metadata": {
      "needs_background": "light"
     },
     "output_type": "display_data"
    },
    {
     "data": {
      "image/png": "[encoded data removed]",
      "text/plain": [
       "<Figure size 432x288 with 1 Axes>"
      ]
     },
     "metadata": {
      "needs_background": "light"
     },
     "output_type": "display_data"
    }
   ],
   "source": [
    "plot_some_customers(1, 5)"
   ]
  },
  {
   "cell_type": "code",
   "execution_count": 491,
   "metadata": {},
   "outputs": [
    {
     "name": "stdout",
     "output_type": "stream",
     "text": [
      "Category #3 has 223 members (20%)\n",
      "Here are some of them :\n"
     ]
    },
    {
     "data": {
      "image/png": "[encoded data removed]",
      "text/plain": [
       "<Figure size 432x288 with 1 Axes>"
      ]
     },
     "metadata": {
      "needs_background": "light"
     },
     "output_type": "display_data"
    },
    {
     "data": {
      "image/png": "[encoded data removed]",
      "text/plain": [
       "<Figure size 432x288 with 1 Axes>"
      ]
     },
     "metadata": {
      "needs_background": "light"
     },
     "output_type": "display_data"
    },
    {
     "data": {
      "image/png": "[encoded data removed]",
      "text/plain": [
       "<Figure size 432x288 with 1 Axes>"
      ]
     },
     "metadata": {
      "needs_background": "light"
     },
     "output_type": "display_data"
    },
    {
     "data": {
      "image/png": "[encoded data removed]",
      "text/plain": [
       "<Figure size 432x288 with 1 Axes>"
      ]
     },
     "metadata": {
      "needs_background": "light"
     },
     "output_type": "display_data"
    },
    {
     "data": {
      "image/png": "[encoded data removed]",
      "text/plain": [
       "<Figure size 432x288 with 1 Axes>"
      ]
     },
     "metadata": {
      "needs_background": "light"
     },
     "output_type": "display_data"
    }
   ],
   "source": [
    "plot_some_customers(2, 5)"
   ]
  },
  {
   "cell_type": "code",
   "execution_count": 478,
   "metadata": {},
   "outputs": [
    {
     "name": "stdout",
     "output_type": "stream",
     "text": [
      "Category #4 has 176 members (16%)\n",
      "Here are some of them :\n"
     ]
    },
    {
     "data": {
      "image/png": "[encoded data removed]",
      "text/plain": [
       "<Figure size 432x288 with 1 Axes>"
      ]
     },
     "metadata": {
      "needs_background": "light"
     },
     "output_type": "display_data"
    },
    {
     "data": {
      "image/png": "[encoded data removed]",
      "text/plain": [
       "<Figure size 432x288 with 1 Axes>"
      ]
     },
     "metadata": {
      "needs_background": "light"
     },
     "output_type": "display_data"
    },
    {
     "data": {
      "image/png": "[encoded data removed]",
      "text/plain": [
       "<Figure size 432x288 with 1 Axes>"
      ]
     },
     "metadata": {
      "needs_background": "light"
     },
     "output_type": "display_data"
    },
    {
     "data": {
      "image/png": "[encoded data removed]",
      "text/plain": [
       "<Figure size 432x288 with 1 Axes>"
      ]
     },
     "metadata": {
      "needs_background": "light"
     },
     "output_type": "display_data"
    },
    {
     "data": {
      "image/png": "[encoded data removed]",
      "text/plain": [
       "<Figure size 432x288 with 1 Axes>"
      ]
     },
     "metadata": {
      "needs_background": "light"
     },
     "output_type": "display_data"
    }
   ],
   "source": [
    "plot_some_customers(3,5)"
   ]
  },
  {
   "cell_type": "code",
   "execution_count": 489,
   "metadata": {},
   "outputs": [
    {
     "data": {
      "image/png": "[encoded data removed]",
      "text/plain": [
       "<Figure size 432x288 with 1 Axes>"
      ]
     },
     "metadata": {
      "needs_background": "light"
     },
     "output_type": "display_data"
    }
   ],
   "source": [
    "compare_two_clusters(1,2)"
   ]
  }
 ],
 "metadata": {
  "kernelspec": {
   "display_name": "Python 3",
   "language": "python",
   "name": "python3"
  },
  "language_info": {
   "codemirror_mode": {
    "name": "ipython",
    "version": 3
   },
   "file_extension": ".py",
   "mimetype": "text/x-python",
   "name": "python",
   "nbconvert_exporter": "python",
   "pygments_lexer": "ipython3",
   "version": "3.7.4"
  }
 },
 "nbformat": 4,
 "nbformat_minor": 2
}
